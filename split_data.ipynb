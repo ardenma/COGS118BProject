{
 "cells": [
  {
   "cell_type": "code",
   "execution_count": 7,
   "metadata": {},
   "outputs": [],
   "source": [
    "%matplotlib inline\n",
    "import matplotlib.pyplot as plt\n",
    "import pandas as pd\n",
    "import numpy as np\n",
    "import seaborn as sns\n",
    "from sklearn.pipeline import Pipeline\n",
    "from sklearn.preprocessing import StandardScaler, OneHotEncoder\n",
    "from sklearn.compose import ColumnTransformer\n",
    "from sklearn.model_selection import train_test_split\n",
    "\n",
    "# global variables\n",
    "dataset_file_path = 'data/processed.cleveland.data'"
   ]
  },
  {
   "cell_type": "code",
   "execution_count": 2,
   "metadata": {},
   "outputs": [],
   "source": [
    "def load_data(filename):\n",
    "    '''\n",
    "    Description: reads specified .csv file and returns an X and y dataframe.\n",
    "    Arguments: .csv file to name\n",
    "    Return: data - dataframe\n",
    "            X - dataframe containing features\n",
    "            y - dataframe containing labels\n",
    "    \n",
    "    > 0. age\n",
    "    > 1. sex\n",
    "    > 2. chest pain type(4 values)\n",
    "    > 3. resting blood pressure\n",
    "    > 4. serum cholestoral in mg/dl\n",
    "    > 5. fasting blood sugar > 120 mg/dl\n",
    "    > 6. resting electrocardiographic results(values 0, 1, 2)\n",
    "    > 7. maximum heart rate achieved\n",
    "    > 8. exercise induced angina\n",
    "    > 9. oldpeak = ST depression induced by exercise relative to rest\n",
    "    > 10. the slope of the peak exercise ST segment\n",
    "    > 11. number of major vessels(0-3) colored by flourosopy\n",
    "    > 12. thal: 3 = normal, 6 = fixed defect, 7 = reversable defect\n",
    "    > 13. num: 0 = no presence, 4 = present\n",
    "    '''\n",
    "\n",
    "    # reading the data\n",
    "    try:\n",
    "        print(\"Reading .csv\")\n",
    "        data = pd.read_csv(filename, header=None)\n",
    "        print(\"Finished reading .csv\")\n",
    "    except:\n",
    "        print(\"Unable to read .csv\")\n",
    "\n",
    "    # set column names\n",
    "    attributes = ['age', 'sex', 'cp', 'trestbps', 'chol', 'fbs', 'restecg',\n",
    "                'thalach', 'exang', 'oldpeak', 'slope', 'ca', 'thal', 'num']\n",
    "    data.columns = attributes\n",
    "\n",
    "    X, y = data.iloc[:, 0:-1], data.iloc[:, -1]\n",
    "\n",
    "    return data, X, y"
   ]
  },
  {
   "cell_type": "code",
   "execution_count": 3,
   "metadata": {},
   "outputs": [
    {
     "name": "stdout",
     "output_type": "stream",
     "text": [
      "Reading .csv\n",
      "Finished reading .csv\n"
     ]
    }
   ],
   "source": [
    "# loading data\n",
    "data, X, y = load_data(dataset_file_path)\n",
    "\n",
    "y = y>0 # setting label outputs to 0 for no heart disease and 1 for heart disease"
   ]
  },
  {
   "cell_type": "code",
   "execution_count": 10,
   "metadata": {},
   "outputs": [
    {
     "name": "stderr",
     "output_type": "stream",
     "text": [
      "/home/arden/.local/lib/python3.6/site-packages/ipykernel_launcher.py:6: FutureWarning: The signature of `Series.to_csv` was aligned to that of `DataFrame.to_csv`, and argument 'header' will change its default value from False to True: please pass an explicit value to suppress this warning.\n",
      "  \n",
      "/home/arden/.local/lib/python3.6/site-packages/ipykernel_launcher.py:7: FutureWarning: The signature of `Series.to_csv` was aligned to that of `DataFrame.to_csv`, and argument 'header' will change its default value from False to True: please pass an explicit value to suppress this warning.\n",
      "  import sys\n"
     ]
    }
   ],
   "source": [
    "# splitting data\n",
    "X_train, X_test, y_train, y_test = train_test_split(X, y, test_size=.2, \n",
    "                                                        shuffle=True)\n",
    "X_train.to_csv('data/train_data.csv')\n",
    "X_test.to_csv('data/test_data.csv')\n",
    "y_train.to_csv('data/train_labels.csv')\n",
    "y_test.to_csv('data/test_labels.csv')"
   ]
  }
 ],
 "metadata": {
  "kernelspec": {
   "display_name": "Python 3",
   "language": "python",
   "name": "python3"
  },
  "language_info": {
   "codemirror_mode": {
    "name": "ipython",
    "version": 3
   },
   "file_extension": ".py",
   "mimetype": "text/x-python",
   "name": "python",
   "nbconvert_exporter": "python",
   "pygments_lexer": "ipython3",
   "version": "3.6.8"
  }
 },
 "nbformat": 4,
 "nbformat_minor": 2
}
