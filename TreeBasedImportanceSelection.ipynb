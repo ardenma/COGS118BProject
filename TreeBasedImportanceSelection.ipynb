{
 "cells": [
  {
   "cell_type": "code",
   "execution_count": 6,
   "metadata": {},
   "outputs": [],
   "source": [
    "import pandas as pd\n",
    "import numpy as np\n",
    "\n",
    "# preprocessing\n",
    "from sklearn.model_selection import train_test_split\n",
    "from sklearn.pipeline import Pipeline\n",
    "from sklearn.preprocessing import StandardScaler, OneHotEncoder\n",
    "from sklearn.compose import ColumnTransformer\n",
    "\n",
    "# metrics\n",
    "from sklearn.metrics import accuracy_score, log_loss\n",
    "\n",
    "# classifiers\n",
    "from sklearn.neighbors import KNeighborsClassifier\n",
    "from sklearn.svm import SVC, LinearSVC, NuSVC\n",
    "from sklearn.tree import DecisionTreeClassifier\n",
    "from sklearn.ensemble import RandomForestClassifier, AdaBoostClassifier, GradientBoostingClassifier\n",
    "\n",
    "# global variables\n",
    "dataset_file_path = 'data/processed.cleveland.data'\n",
    "\n",
    "def load_data(filename):\n",
    "    '''\n",
    "    Reads specified .csv file and returns an X and y dataframe.\n",
    "    > 0. age\n",
    "    > 1. sex\n",
    "    > 2. chest pain type(4 values)\n",
    "    > 3. resting blood pressure\n",
    "    > 4. serum cholestoral in mg/dl\n",
    "    > 5. fasting blood sugar > 120 mg/dl\n",
    "    > 6. resting electrocardiographic results(values 0, 1, 2)\n",
    "    > 7. maximum heart rate achieved\n",
    "    > 8. exercise induced angina\n",
    "    > 9. oldpeak = ST depression induced by exercise relative to rest\n",
    "    > 10. the slope of the peak exercise ST segment\n",
    "    > 11. number of major vessels(0-3) colored by flourosopy\n",
    "    > 12. thal: 3 = normal, 6 = fixed defect, 7 = reversable defect\n",
    "    > 13. num: 0 = no presence, 4 = present\n",
    "    '''\n",
    "\n",
    "    # reading the data\n",
    "    try:\n",
    "        print(\"Reading .csv\")\n",
    "        data = pd.read_csv(filename, header=None)\n",
    "        print(\"Finished reading .csv\")\n",
    "    except:\n",
    "        print(\"Unable to read .csv\")\n",
    "\n",
    "    # set column names\n",
    "    attributes = ['age', 'sex', 'cp', 'trestbps', 'chol', 'fbs', 'restecg',\n",
    "                'thalach', 'exang', 'oldpeak', 'slope', 'ca', 'thal', 'num']\n",
    "    data.columns = attributes\n",
    "\n",
    "    X, y = data.iloc[:, 0:-1], data.iloc[:, -1]\n",
    "\n",
    "    return X, y\n",
    "\n",
    "def preprocess_data(data):\n",
    "    '''\n",
    "    Arguments: Pandas Dataframe (X_train or X_test)\n",
    "    Return: Preprocessed np array\n",
    "    '''\n",
    "    # saving columns and indices since ColumnTransformer removes them\n",
    "    columns = data.columns\n",
    "    index = data.index\n",
    "\n",
    "    # defining categorical and numerical features (and categorical feature value range)\n",
    "    categorical_features = ['sex', 'cp', 'fbs', 'restecg', \n",
    "                             'exang', 'slope', 'ca', 'thal']\n",
    "    categories = [[0,1], [1,2,4], [0,1], [0,1,2], \n",
    "                  [0,1], [1,2,3], [0,1,2,3], [3,6,7]]\n",
    "    numerical_features = ['age', 'trestbps', 'chol', 'thalach', 'oldpeak']\n",
    "\n",
    "    # creating transformers\n",
    "    # categorical_transformer = Pipeline[('onehot', OneHotEncoder())]\n",
    "    # numerical_transformer = Pipeline[('scaler', StandardScaler())]\n",
    "\n",
    "    # creating and applying ColumnTransformer\n",
    "    preprocessor = ColumnTransformer(\n",
    "        transformers=[('num', StandardScaler(), numerical_features),\n",
    "                      ('cat', OneHotEncoder(categories=categories, \n",
    "                                            handle_unknown='ignore'),\n",
    "                       categorical_features)],\n",
    "        n_jobs=-1)\n",
    "\n",
    "    data = preprocessor.fit_transform(data)\n",
    "    \n",
    "    return data"
   ]
  },
  {
   "cell_type": "code",
   "execution_count": 7,
   "metadata": {},
   "outputs": [],
   "source": [
    "data = pd.read_csv('data/processed.cleveland.data', header=None)\n",
    "attributes = ['age', 'sex', 'cp', 'trestbps', 'chol', 'fbs', 'restecg',\n",
    "                'thalach', 'exang', 'oldpeak', 'slope', 'ca', 'thal', 'num']\n",
    "data.columns = attributes\n",
    "X, y = data.iloc[:, :-1], data.iloc[:, -1]"
   ]
  },
  {
   "cell_type": "code",
   "execution_count": 8,
   "metadata": {},
   "outputs": [
    {
     "name": "stdout",
     "output_type": "stream",
     "text": [
      "[0.10351118 0.02946029 0.05566025 0.08548449 0.10283017 0.02781476\n",
      " 0.03769335 0.09692361 0.0714662  0.11560113 0.05765422 0.10876108\n",
      " 0.10713927]\n"
     ]
    },
    {
     "name": "stderr",
     "output_type": "stream",
     "text": [
      "C:\\Users\\Danny\\Anaconda3\\lib\\site-packages\\sklearn\\ensemble\\forest.py:246: FutureWarning: The default value of n_estimators will change from 10 in version 0.20 to 100 in 0.22.\n",
      "  \"10 in version 0.20 to 100 in 0.22.\", FutureWarning)\n"
     ]
    },
    {
     "data": {
      "image/png": "[encoded data removed]",
      "text/plain": [
       "<Figure size 432x288 with 1 Axes>"
      ]
     },
     "metadata": {
      "needs_background": "light"
     },
     "output_type": "display_data"
    }
   ],
   "source": [
    "from sklearn.ensemble import ExtraTreesClassifier\n",
    "%matplotlib inline\n",
    "import matplotlib.pyplot as plt\n",
    "model = ExtraTreesClassifier()\n",
    "model.fit(X, y)\n",
    "print(model.feature_importances_) #use inbuilt class feature_importances of tree based classifiers\n",
    "#plot graph of feature importances for better visualization\n",
    "feat_importances = pd.Series(model.feature_importances_, index=X.columns)\n",
    "feat_importances.nlargest(len(X.columns)).plot(kind='barh')\n",
    "plt.show()"
   ]
  },
  {
   "cell_type": "code",
   "execution_count": null,
   "metadata": {},
   "outputs": [],
   "source": []
  },
  {
   "cell_type": "code",
   "execution_count": null,
   "metadata": {},
   "outputs": [],
   "source": []
  }
 ],
 "metadata": {
  "kernelspec": {
   "display_name": "Python 3",
   "language": "python",
   "name": "python3"
  },
  "language_info": {
   "codemirror_mode": {
    "name": "ipython",
    "version": 3
   },
   "file_extension": ".py",
   "mimetype": "text/x-python",
   "name": "python",
   "nbconvert_exporter": "python",
   "pygments_lexer": "ipython3",
   "version": "3.7.3"
  }
 },
 "nbformat": 4,
 "nbformat_minor": 2
}
